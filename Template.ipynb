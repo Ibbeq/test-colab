{
  "nbformat": 4,
  "nbformat_minor": 0,
  "metadata": {
    "colab": {
      "provenance": [],
      "include_colab_link": true
    },
    "kernelspec": {
      "name": "python3",
      "display_name": "Python 3"
    },
    "language_info": {
      "name": "python"
    }
  },
  "cells": [
    {
      "cell_type": "markdown",
      "metadata": {
        "id": "view-in-github",
        "colab_type": "text"
      },
      "source": [
        "<a href=\"https://colab.research.google.com/github/Ibbeq/test-colab/blob/main/Template.ipynb\" target=\"_parent\"><img src=\"https://colab.research.google.com/assets/colab-badge.svg\" alt=\"Open In Colab\"/></a>"
      ]
    },
    {
      "cell_type": "code",
      "execution_count": null,
      "metadata": {
        "id": "1bGhavLScf5t",
        "colab": {
          "base_uri": "https://localhost:8080/"
        },
        "outputId": "cadaa1fa-a39a-42ae-e7c8-99d628b96f25"
      },
      "outputs": [
        {
          "output_type": "stream",
          "name": "stdout",
          "text": [
            "Helo world\n"
          ]
        }
      ],
      "source": [
        "print('Helo world')"
      ]
    },
    {
      "cell_type": "code",
      "source": [
        "print('Helo colab')"
      ],
      "metadata": {
        "id": "uoI5mLyeiC92",
        "outputId": "8cbcda9e-da0b-4276-ad77-730e8d6994aa",
        "colab": {
          "base_uri": "https://localhost:8080/"
        }
      },
      "execution_count": 1,
      "outputs": [
        {
          "output_type": "stream",
          "name": "stdout",
          "text": [
            "Hello colab\n"
          ]
        }
      ]
    },
    {
      "cell_type": "code",
      "source": [],
      "metadata": {
        "id": "TOvYNO4PjVuR"
      },
      "execution_count": null,
      "outputs": []
    }
  ]
}