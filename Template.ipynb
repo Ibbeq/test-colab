{
  "nbformat": 4,
  "nbformat_minor": 0,
  "metadata": {
    "colab": {
      "provenance": [],
      "authorship_tag": "ABX9TyOdx1h//wlR5LNchm2gBb3v",
      "include_colab_link": true
    },
    "kernelspec": {
      "name": "python3",
      "display_name": "Python 3"
    },
    "language_info": {
      "name": "python"
    }
  },
  "cells": [
    {
      "cell_type": "markdown",
      "metadata": {
        "id": "view-in-github",
        "colab_type": "text"
      },
      "source": [
        "<a href=\"https://colab.research.google.com/github/Ibbeq/test-colab/blob/main/Template.ipynb\" target=\"_parent\"><img src=\"https://colab.research.google.com/assets/colab-badge.svg\" alt=\"Open In Colab\"/></a>"
      ]
    },
    {
      "cell_type": "code",
      "execution_count": 1,
      "metadata": {
        "id": "1bGhavLScf5t",
        "colab": {
          "base_uri": "https://localhost:8080/"
        },
        "outputId": "cadaa1fa-a39a-42ae-e7c8-99d628b96f25"
      },
      "outputs": [
        {
          "output_type": "stream",
          "name": "stdout",
          "text": [
            "Helo world\n"
          ]
        }
      ],
      "source": [
        "print('Helo world')"
      ]
    },
    {
      "cell_type": "code",
      "source": [],
      "metadata": {
        "id": "uoI5mLyeiC92"
      },
      "execution_count": null,
      "outputs": []
    }
  ]
}